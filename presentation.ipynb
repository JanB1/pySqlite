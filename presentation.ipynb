{
 "cells": [
  {
   "cell_type": "markdown",
   "id": "484ddf00-1cdf-4527-a1fa-5998db7f41f4",
   "metadata": {},
   "source": [
    "# Demo für Python sqlite3 API"
   ]
  },
  {
   "cell_type": "markdown",
   "id": "2219668c-28cd-4e3d-ad13-51a1bd86e5f1",
   "metadata": {},
   "source": [
    "1. Importiere die SQLite 3 API \n",
    "2. Importiere die Pathlib (zum Erstellen des Pfad-Objektes)\n",
    "3. Definiere den Dateipfad"
   ]
  },
  {
   "cell_type": "code",
   "execution_count": 1,
   "id": "0ec0ea07-f60e-4496-8d8f-61025618c054",
   "metadata": {},
   "outputs": [],
   "source": [
    "import sqlite3\n",
    "from pathlib import Path\n",
    "\n",
    "full_database_path = 'data/presentation.db'"
   ]
  },
  {
   "cell_type": "markdown",
   "id": "1ac1f887-1c3d-4b00-8739-a6165edd242a",
   "metadata": {},
   "source": [
    "\\\n",
    "Frage die Version der API ab"
   ]
  },
  {
   "cell_type": "code",
   "execution_count": 2,
   "id": "665e12b5-0854-411c-956d-c11565ae9836",
   "metadata": {},
   "outputs": [
    {
     "name": "stdout",
     "output_type": "stream",
     "text": [
      "2.6.0\n"
     ]
    }
   ],
   "source": [
    "print(sqlite3.version)"
   ]
  },
  {
   "cell_type": "markdown",
   "id": "e7bdfd72-c978-48e7-a522-751b154b9519",
   "metadata": {},
   "source": [
    "\\\n",
    "Frage die Version der verwendeten SQLite Database Engine ab"
   ]
  },
  {
   "cell_type": "code",
   "execution_count": 3,
   "id": "59f41ac7-1956-4757-b85a-5e30290de41c",
   "metadata": {},
   "outputs": [
    {
     "name": "stdout",
     "output_type": "stream",
     "text": [
      "3.32.3\n"
     ]
    }
   ],
   "source": [
    "print(sqlite3.sqlite_version)"
   ]
  },
  {
   "cell_type": "markdown",
   "id": "3f3c9214-aa55-4357-bb60-56a05b241c4b",
   "metadata": {},
   "source": [
    "---"
   ]
  },
  {
   "cell_type": "markdown",
   "id": "3c633a9d-dbef-41d7-9d09-4f1933f9c284",
   "metadata": {},
   "source": [
    "## Datenbankverbindung erstellen\n",
    "1. Initialisiere eine Variable zum einspeichern des Verbindungs-Zustandes\n",
    "2. Erstelle das Connection-Object und erstelle die Datenbank am definierten Zielort, falls sie nocht nicht existiert"
   ]
  },
  {
   "cell_type": "code",
   "execution_count": 34,
   "id": "ec41b4c3-834b-46cc-ad68-452073da987c",
   "metadata": {},
   "outputs": [],
   "source": [
    "connectionEstablished = False\n",
    "con = sqlite3.connect(full_database_path)"
   ]
  },
  {
   "cell_type": "markdown",
   "id": "7c835fed-c677-4716-a874-5bf7bd052f50",
   "metadata": {},
   "source": [
    "1. Versuche ein Cursor-Object zu erstellen\n",
    " 1. Konnte ein Cursor erstellt werden, so wird die Verbindung als aktiv angesehen\n",
    " 2. Konnte das Cursor-Objekt nicht erstellt werden, so wird der Fehler ausgegeben\n",
    "2. Gib den Zustand der Verbindung aus"
   ]
  },
  {
   "cell_type": "code",
   "execution_count": 35,
   "id": "4525c01c-8ec2-42ef-afe2-a1fded8830da",
   "metadata": {},
   "outputs": [
    {
     "name": "stdout",
     "output_type": "stream",
     "text": [
      "Connection established: True\n"
     ]
    }
   ],
   "source": [
    "try:\n",
    "    cur = con.cursor()\n",
    "    connectionEstablished = True\n",
    "except Exception as e:\n",
    "    print(e)\n",
    "print('Connection established: ' + str(connectionEstablished))"
   ]
  },
  {
   "cell_type": "markdown",
   "id": "1e2f8ba6-bb4c-49b0-882d-cecd09c6625f",
   "metadata": {},
   "source": [
    "---"
   ]
  },
  {
   "cell_type": "markdown",
   "id": "2898f062-78a3-467c-9086-6a81004f8c22",
   "metadata": {},
   "source": [
    "## Erstellen eines Tables\n",
    "1. Erstelle einen neuen Table\n",
    "2. Frage alle Daten aus dem neuen Table ab (aktuell keine da leer)"
   ]
  },
  {
   "cell_type": "code",
   "execution_count": 36,
   "id": "61cf227b-6602-475a-81c1-c947ed6be28e",
   "metadata": {},
   "outputs": [
    {
     "name": "stdout",
     "output_type": "stream",
     "text": [
      "True\n",
      "No results\n"
     ]
    }
   ],
   "source": [
    "# Constrain for \"Id\" has to be \"INTEGER PRIMARY KEY\"\n",
    "# to result in auto-increment column\n",
    "print(connectionEstablished)\n",
    "if connectionEstablished:\n",
    "    cur.execute(\"\"\"CREATE TABLE IF NOT EXISTS person (\n",
    "                   Id INTEGER PRIMARY KEY,\n",
    "                   LastName TEXT NOT NULL,\n",
    "                   FirstName TEXT,\n",
    "                   DateOfBirth TEXT)\"\"\")\n",
    "    con.commit()\n",
    "\n",
    "    cur.execute(\"SELECT * FROM person\")\n",
    "    rows = cur.fetchall()\n",
    "    if len(rows) > 0:\n",
    "        for row in rows:\n",
    "            print(row)\n",
    "    else:\n",
    "        print(\"No results\")\n",
    "    \n",
    "else:\n",
    "    print(\"Connection not established\")\n"
   ]
  },
  {
   "cell_type": "markdown",
   "id": "ccc14bf3-51d4-45f3-ad99-ee4c3bd7e18f",
   "metadata": {},
   "source": [
    "---"
   ]
  },
  {
   "cell_type": "markdown",
   "id": "dc2f4cb5-e966-4f4e-9c88-1bea06fc698d",
   "metadata": {},
   "source": [
    "\\\n",
    "Der Einfachheit halber wurden 2 Funktionen erstellt: `execute_and_fetch()` und `fetch()`\\\n",
    "Erstere führt eine übergebene Query aus, ruft die Daten ab und zeigt sie an.\\\n",
    "Zweitere ruft nur die Daten ab und zeigt sie an."
   ]
  },
  {
   "cell_type": "code",
   "execution_count": 40,
   "id": "6966119f-611b-4cc2-8635-51053fa8d6e8",
   "metadata": {},
   "outputs": [],
   "source": [
    "def execute_and_fetch(connobj, query, tablename):\n",
    "    connectionEstablished = False\n",
    "    try:\n",
    "        cursor = connobj.cursor()\n",
    "        connectionEstablished = True\n",
    "    except Exception as e:\n",
    "        print(e)\n",
    "    \n",
    "    if connectionEstablished:\n",
    "        # Run query passed my sql argument against database\n",
    "        try:\n",
    "            cursor.execute(query)\n",
    "            connobj.commit()\n",
    "        except Exception as e:\n",
    "            print(e)\n",
    "\n",
    "        # Fetch current contents of table\n",
    "        selquery = \"SELECT * FROM \" + str(tablename)\n",
    "        try:\n",
    "            cursor.execute(selquery)\n",
    "        except Exception as e:\n",
    "            print(e)\n",
    "        \n",
    "        rows  = cursor.fetchall()\n",
    "        \n",
    "        # Print results if there are any\n",
    "        if len(rows) > 0:\n",
    "            for row in rows:\n",
    "                print(row)\n",
    "        else:\n",
    "            print(\"No results\")\n",
    "        \n",
    "    else:\n",
    "        print(\"Connection not established\")\n",
    "        \n",
    "def fetch(connobj, tablename):\n",
    "    connectionEstablished = False\n",
    "    try:\n",
    "        cursor = connobj.cursor()\n",
    "        connectionEstablished = True\n",
    "    except Exception as e:\n",
    "        print(e)\n",
    "    \n",
    "    if connectionEstablished:\n",
    "        # Fetch current contents of table\n",
    "        selquery = \"SELECT * FROM \" + str(tablename)\n",
    "        try:\n",
    "            cursor.execute(selquery)\n",
    "        except Exception as e:\n",
    "            print(e)\n",
    "        \n",
    "        rows  = cursor.fetchall()\n",
    "        \n",
    "        # Print results if there are any\n",
    "        if len(rows) > 0:\n",
    "            for row in rows:\n",
    "                print(row)\n",
    "        else:\n",
    "            print(\"No results\")\n",
    "        \n",
    "    else:\n",
    "        print(\"Connection not established\")"
   ]
  },
  {
   "cell_type": "markdown",
   "id": "01a8ebce-9e25-4253-a9f1-2641c982f83f",
   "metadata": {},
   "source": [
    "\\\n",
    "Mittels der zuvor definierten Funktion `execute_and_fetch()` wird ein Eintrag mittels `insert` in den neuen Table `person` eingefügt und der Inhalt des Tables abgefragt und ausgegeben.\n",
    "1. Definieren der Query als String und abspeichern in einer Variable (optional)\n",
    "2. Aufrufen von `execute_and_fetch()` zur Ausführung der query und Abfrage der Daten"
   ]
  },
  {
   "cell_type": "code",
   "execution_count": 45,
   "id": "ff52e59a-0fed-4ed4-9088-4d3dc56e54dc",
   "metadata": {},
   "outputs": [
    {
     "name": "stdout",
     "output_type": "stream",
     "text": [
      "(1, 'Baumann', 'Jan', '1900-01-01')\n",
      "(2, 'Pavicic', 'Aleksandar', '1900-01-01')\n",
      "(3, 'Pearson', 'Michael', '1900-01-01')\n",
      "(4, 'Fahr', 'Alec', '1900-01-01')\n",
      "(5, 'Baumann', 'Jan', '1900-01-01')\n"
     ]
    }
   ],
   "source": [
    "query = \"INSERT INTO person VALUES (NULL, 'Baumann', 'Jan', '1900-01-01')\"\n",
    "\n",
    "execute_and_fetch(con, query, 'person')"
   ]
  },
  {
   "cell_type": "markdown",
   "id": "cd00dd15-51fe-42cb-8797-9986d0c4c68c",
   "metadata": {},
   "source": [
    "\\\n",
    "Um den Eintrag wieder zu löschen rufen wir die Funktion erneut auf, jedoch mit einer `delete` query."
   ]
  },
  {
   "cell_type": "code",
   "execution_count": 41,
   "id": "25f2a593-3b06-4d0a-80de-ccd8798e0654",
   "metadata": {},
   "outputs": [
    {
     "name": "stdout",
     "output_type": "stream",
     "text": [
      "No results\n"
     ]
    }
   ],
   "source": [
    "query = \"DELETE FROM person WHERE LastName = 'Baumann'\"\n",
    "\n",
    "execute_and_fetch(con, query, 'person')"
   ]
  },
  {
   "cell_type": "markdown",
   "id": "4f7c255a-53af-4b3e-ad73-f7d2a25eccae",
   "metadata": {},
   "source": [
    "---"
   ]
  },
  {
   "cell_type": "markdown",
   "id": "3662fc14-3273-47f6-a6cd-45399b50b64d",
   "metadata": {},
   "source": [
    "## Ausführen mehrere queries\n",
    "Um mehrere Queries auszuführen können wir nicht den gleichen Befehl verwenden, da `execute()` nur eine einzelne Query erlaubt."
   ]
  },
  {
   "cell_type": "code",
   "execution_count": 43,
   "id": "0afdee1f-d050-46bc-8ad0-419581b53833",
   "metadata": {},
   "outputs": [
    {
     "name": "stdout",
     "output_type": "stream",
     "text": [
      "You can only execute one statement at a time.\n",
      "No results\n"
     ]
    }
   ],
   "source": [
    "query1 = \"INSERT INTO person VALUES (NULL, 'Baumann', 'Jan', '1900-01-01');\"\n",
    "query2 = \"INSERT INTO person VALUES (NULL, 'Pavicic', 'Aleksandar', '1900-01-01');\"\n",
    "        \n",
    "execute_and_fetch(con, query1 + query2, 'person')"
   ]
  },
  {
   "cell_type": "markdown",
   "id": "6aacfba0-f52a-4550-ad75-fe0c470d1882",
   "metadata": {},
   "source": [
    "\\\n",
    "Daher verwenden wir `executemany()` um mehrere queries nacheinander auszuführen."
   ]
  },
  {
   "cell_type": "code",
   "execution_count": 44,
   "id": "c734b44c-623d-4f4f-8acc-f539785aa66d",
   "metadata": {},
   "outputs": [
    {
     "name": "stdout",
     "output_type": "stream",
     "text": [
      "(1, 'Baumann', 'Jan', '1900-01-01')\n",
      "(2, 'Pavicic', 'Aleksandar', '1900-01-01')\n",
      "(3, 'Pearson', 'Michael', '1900-01-01')\n",
      "(4, 'Fahr', 'Alec', '1900-01-01')\n"
     ]
    }
   ],
   "source": [
    "query1 = \"INSERT INTO person VALUES (NULL, 'Baumann', 'Jan', '1900-01-01');\"\n",
    "query2 = \"INSERT INTO person VALUES (NULL,'Pavicic','Aleksandar','1900-01-01');\"\n",
    "query3 = \"INSERT INTO person VALUES (NULL, 'Pearson', 'Michael', '1900-01-01');\"\n",
    "query4 = \"INSERT INTO person VALUES (NULL, 'Fahr','Alec', '1900-01-01');\"\n",
    "\n",
    "cur.executescript(query1 + query2 + query3 + query4)\n",
    "con.commit()\n",
    "\n",
    "fetch(con, 'person')"
   ]
  },
  {
   "cell_type": "markdown",
   "id": "beace965-f347-4476-96ce-4014c6071f17",
   "metadata": {},
   "source": [
    "---"
   ]
  },
  {
   "cell_type": "markdown",
   "id": "736324f5-b662-4b38-91b0-6faaa6336a07",
   "metadata": {},
   "source": [
    "Wir haben bisher nur `fetchall()` verwendet, um alle Resultate einer `SELECT` query aufzurufen.\\\n",
    "Wir erhalten dabei die Resultate immer als Liste. \\\n",
    "Form: `[<val 1>, <val 2>, ... <val n>]`\\\n",
    "\\\n",
    "Eine Liste ist eine der 4 Formen in Python, über welche mehrere Datensätze in einer einzelnen Variable abspeicherbar sind.\n",
    "Die 4 Formen sind:\n",
    "1. List (geordnet, veränderbar, indiziert, nicht eindeutig (erlaubt doppelte Werte))\n",
    "2. Tuple (geordnet, unveränderbar, indiziert, nicht eundeutig)\n",
    "3. Set (nicht geordnet, unveränderbar, nicht indiziert, eindeutig)\n",
    "4. Dictionary (geordnet (ab Python 3.7), veränderbar, nicht numerisch indiziert (zugriff über Key-Value), eindeutig)"
   ]
  },
  {
   "cell_type": "markdown",
   "id": "d4fadaea-817c-4804-a1f2-6692a7ed6356",
   "metadata": {},
   "source": [
    "Nachfolgend werden mittels einer `SELECT` Abfrage zuerst alle Datensätze aus der Tabelle `person` ausgelesen."
   ]
  },
  {
   "cell_type": "code",
   "execution_count": 49,
   "id": "a0f8bcb5-6de2-42f4-b475-ef47acce71fe",
   "metadata": {},
   "outputs": [
    {
     "data": {
      "text/plain": [
       "<sqlite3.Cursor at 0x23f1e04e8f0>"
      ]
     },
     "execution_count": 49,
     "metadata": {},
     "output_type": "execute_result"
    }
   ],
   "source": [
    "cur.execute(\"SELECT * FROM person\")"
   ]
  },
  {
   "cell_type": "markdown",
   "id": "8fba75ce-0088-45a5-9626-66ee5b29d2b4",
   "metadata": {},
   "source": [
    "Die Resultate wurden nun vom Cursor gepuffert. Die Einträge in diesem Puffer können wir über `fetchall()` alle auf ein Mal abrufen und erhalten damit eine Liste mit mehreren Tuple.\\\n",
    "Jedes Tuple entspriche dabei einer Zeile, und enthält mehrere Werte.\\\n",
    "Das Tuple ist wie open erwähnt eine eine Auflistung mehrere Werte in Python, wobei sowohl die Reihenfolge als auch die einzelnen Datensätze unveränderbar sind.\\\n",
    "Form: `(<val 1>, <val 2>, ... <val n>)`\n",
    "\\\n",
    "Mittels `fetchone()` können wir aber auch nur einzelne Tuple aus unserem Puffer auslesen. Für jeden Aufruf wird uns `fetchone()` dabei den nächsten Wert aus der Liste zurückgeben.\\\n",
    "`fetchone()` verwendet dabei bei jedem Aufruf den Generator der Liste, wodurch der jeweils nächste Wert aus der Liste zurückgegeben wird. Dazu später mehr."
   ]
  },
  {
   "cell_type": "code",
   "execution_count": 54,
   "id": "c78ee260-aac7-450d-bf18-f7ed659a62b8",
   "metadata": {},
   "outputs": [
    {
     "name": "stdout",
     "output_type": "stream",
     "text": [
      "None\n"
     ]
    }
   ],
   "source": [
    "print(cur.fetchone())"
   ]
  },
  {
   "cell_type": "markdown",
   "id": "bd432d24-1878-43b5-bfb0-24697a89cbb6",
   "metadata": {},
   "source": [
    "\\\n",
    "Mittels dem SQL Befehl `COUNT()` und `fetchone()` können wir nun die Anzahl der Einträge in unserem Table auslesen.\n",
    "1. Ausführen der Query gegen die Datenbank\n",
    "2. Abfragen des Resultates (COUNT() liefert in diesem Fall nur 1 Resultat)\n",
    "3. Abspeichern des Resultats in einer Variable, Zugriff auf das Tuple wie auf ein Array\n",
    "4. Ausgabe der Anzahl"
   ]
  },
  {
   "cell_type": "code",
   "execution_count": 46,
   "id": "3a8d519f-c661-43b1-89a6-5f578c25d192",
   "metadata": {},
   "outputs": [
    {
     "name": "stdout",
     "output_type": "stream",
     "text": [
      "Number of rows: 5\n"
     ]
    }
   ],
   "source": [
    "cur.execute(\"SELECT COUNT() FROM person\")\n",
    "data = cur.fetchone()\n",
    "numrows = data[0]\n",
    "print(\"Number of rows: \" + str(numrows))"
   ]
  },
  {
   "cell_type": "markdown",
   "id": "e9af24c5-62e8-4588-a8ed-9455f87b1bb3",
   "metadata": {},
   "source": [
    "\\\n",
    "Wir können dieses Prinzip verwenden, um eine gewisse Anzahl von Zeilen zu löschen. Hierfür können wir `executemany()` verwenden.\\\n",
    "`executemany()` erwartet als zweiten Parameter einen Generator. Dies ist eine Spezialform einer Funktion, welche einen Iterator implementiert.\\\n",
    "Ein Iterator ist eine spezielles Objekt, welches für jeden Aufruf einen Wert aus einer Auflistung zurückgibt.\\\n",
    "\\\n",
    "Im Fall hier gibt der Generator `idGen` für jeden Aufruf einen Wert im Bereich zwischen den Parametern `min` und `max` (beide inklusive) aus.\\\n",
    "`executemany()` führt also die übergebene Query mit einem Platzhalter für den Iterable so lange aus, wie der Generator einen Wert zurückliefert.\\\n",
    "In der Implementation unten also für alle IDs zwischen 2 und der Anzahl der Zeilen in der Tabelle."
   ]
  },
  {
   "cell_type": "markdown",
   "id": "3c65fd81-e3cb-4288-bb67-5c6548ba8abe",
   "metadata": {},
   "source": [
    "1. Definition des Generators `idGen`\n",
    "2. Ausführen der gleichen Query wie oben zum Erhalt der Anzahl Zeilen in der Tabelle und abspeichern dieser in einer Variable\n",
    "3. Ausführen der Query in `executemany()` unter Zuhilfename des Generators für alle IDs\n",
    "4. Abfragen der noch vorhandenen Datensätze über `fetch()`"
   ]
  },
  {
   "cell_type": "markdown",
   "id": "6fbde9cb-352a-4d61-a78d-c91a7961ad22",
   "metadata": {},
   "source": [
    "*Anmerkung: Es wäre auch möglich gewesen, mittels `SELECT` alle in der Tabelle vorhandenen IDs abzufragen und mittels einem Generator die IDs aus dem Tuple ab der zweiten ID zurückzugeben, aber das hätte die Sache weiter verkompliziert und der Demonstration keinen Mehrwert gebracht.*"
   ]
  },
  {
   "cell_type": "code",
   "execution_count": 56,
   "id": "922b681a-1ae9-4d47-a610-bb94185a089b",
   "metadata": {},
   "outputs": [
    {
     "name": "stdout",
     "output_type": "stream",
     "text": [
      "Number of rows: 7\n",
      "(1, 'Baumann', 'Jan', '1900-01-01')\n"
     ]
    }
   ],
   "source": [
    "def idGen(min, max):\n",
    "    for i in range(min, max+1):\n",
    "        yield (i,)\n",
    "\n",
    "cur.execute(\"SELECT COUNT(*) FROM person\")\n",
    "numrows = cur.fetchone()[0]\n",
    "print(\"Number of rows: \" + str(numrows))\n",
    "\n",
    "cur.executemany(\"DELETE FROM person WHERE Id == (?)\", idGen(2, numrows))\n",
    "con.commit()\n",
    "\n",
    "fetch(con, 'person')"
   ]
  },
  {
   "cell_type": "markdown",
   "id": "4ee5ad70-0531-40cd-a0c0-722f807677ce",
   "metadata": {},
   "source": [
    "\\\n",
    "Eine Andere Anwendung wäre, dass wir direkt ein Tuple Ojekt angeben, da Tuple das Interface `Iterable` implementiert und damit einen Generator bereitstellt, welchen `executemany()` ja als Argument erwartet.\\\n",
    "Ein Interface definiert die von einem Objekt zu implementierenden Methoden und erlaubt daher die Verwendung die Verwendung von definierten Methoden, mehr dazu in OOP2 im Kapitel \"Interfaces\"\n",
    "1. \"Abfüllen\" des Tuple mit den entsprechenden Werten\n",
    "2. Ausführen der Query `executemany()` mit den Platzhaltern für die Werte, sowie dem Tuple als Argument\n",
    "3. Abfragen der Datensätze"
   ]
  },
  {
   "cell_type": "code",
   "execution_count": 57,
   "id": "61bc2f36-2293-41fd-9e3c-055cadf3796c",
   "metadata": {},
   "outputs": [
    {
     "name": "stdout",
     "output_type": "stream",
     "text": [
      "(1, 'Baumann', 'Jan', '1900-01-01')\n",
      "(2, 'Pavicic', 'Aleksandar', '1900-01-01')\n",
      "(3, 'Pearson', 'Michael', '1900-01-01')\n",
      "(4, 'Fahr', 'Alec', '1900-01-01')\n"
     ]
    }
   ],
   "source": [
    "values = [(None, \"Pavicic\"\"\", \"Aleksandar\"\"\", \"1900-01-01\"),\n",
    "          (None, \"Pearson\", \"Michael\"\"\", \"1900-01-01\"),\n",
    "          (None, \"Fahr\", \"Alec\", \"1900-01-01\")]\n",
    "cur.executemany(\"INSERT INTO person VALUES (?, ?, ?, ?)\", values)\n",
    "con.commit()\n",
    "\n",
    "fetch(con, 'person')"
   ]
  },
  {
   "cell_type": "markdown",
   "id": "1a672708-e28a-4ccb-9a13-17994b89ae66",
   "metadata": {},
   "source": [
    "---"
   ]
  },
  {
   "cell_type": "markdown",
   "id": "d4901a7c-3840-490d-bf90-0c5d1c93f922",
   "metadata": {},
   "source": [
    "Mit Hilfe von `backup()` können wir ein Backup der bestehenden Datenbank erstellen.\\\n",
    "Dabei muss als erstes Argument ein `Connection` Objekt zu der Backup-Datenbank übergeben werden.\\\n",
    "Der zweite Parameter definiert die Anzahl Seiten, jede Seite umfasst standardmässig 2^10, also 1024 Bytes.\\\n",
    "Über den dritten Parameter kann eine Funktion angegeben werden, welche als Argumente 3 Werte erhält, welche Auskunft über den Fortschritt des Backup-Prozesses ausgeben."
   ]
  },
  {
   "cell_type": "code",
   "execution_count": 64,
   "id": "4f342cda-a7aa-41bb-af04-bb32ff67136d",
   "metadata": {},
   "outputs": [
    {
     "name": "stdout",
     "output_type": "stream",
     "text": [
      "Person table current state: \n",
      "(1, 'Baumann', 'Jan', '1900-01-01')\n",
      "(2, 'Pavicic', 'Aleksandar', '1900-01-01')\n",
      "(3, 'Pearson', 'Michael', '1900-01-01')\n",
      "(4, 'Fahr', 'Alec', '1900-01-01')\n",
      "Copied 1 of 2 pages...\n",
      "Copied 2 of 2 pages...\n",
      "\n",
      "Person table from backup: \n",
      "(1, 'Baumann', 'Jan', '1900-01-01')\n",
      "(2, 'Pavicic', 'Aleksandar', '1900-01-01')\n",
      "(3, 'Pearson', 'Michael', '1900-01-01')\n",
      "(4, 'Fahr', 'Alec', '1900-01-01')\n"
     ]
    }
   ],
   "source": [
    "conbackup = sqlite3.connect('data/backup.db')\n",
    "\n",
    "print(\"Person table current state: \")\n",
    "fetch(con, 'person')\n",
    "\n",
    "con.backup(conbackup, pages = 1, progress = (lambda status, remaining, total : print(f\"Copied {total - remaining} of {total} pages...\")))\n",
    "\n",
    "print(\"\\nPerson table from backup: \")\n",
    "fetch(conbackup, 'person')"
   ]
  },
  {
   "cell_type": "markdown",
   "id": "0eb7555e-a6d9-4fa7-93d0-2d631b72e1b7",
   "metadata": {},
   "source": [
    "\\\n",
    "Nachdem wir nun ein Backup der Datenbank erstellt haben, können wir den Table löschen.\\\n",
    "Wenn wir nun `fetch()` aufrufen erhalten wir eine Fehlermeldung."
   ]
  },
  {
   "cell_type": "code",
   "execution_count": 24,
   "id": "cb79094e-b9e1-4dbf-951a-c7b9bbe8d0e7",
   "metadata": {},
   "outputs": [
    {
     "name": "stdout",
     "output_type": "stream",
     "text": [
      "no such table: person\n"
     ]
    }
   ],
   "source": [
    "cur.execute(\"DROP TABLE IF EXISTS person\")\n",
    "con.commit()\n",
    "\n",
    "fetch(con, 'person')"
   ]
  },
  {
   "cell_type": "markdown",
   "id": "512f7ec6-9bbb-4169-a11f-264da50196fb",
   "metadata": {},
   "source": [
    "\\\n",
    "Wenn alles gut gelaufen ist, so ist der Table aber immer noch in unsere Backup-Datenbank vorhanden."
   ]
  },
  {
   "cell_type": "code",
   "execution_count": 65,
   "id": "cd43779d-b13a-45ce-a6f3-93dc93207e01",
   "metadata": {},
   "outputs": [
    {
     "name": "stdout",
     "output_type": "stream",
     "text": [
      "(1, 'Baumann', 'Jan', '1900-01-01')\n",
      "(2, 'Pavicic', 'Aleksandar', '1900-01-01')\n",
      "(3, 'Pearson', 'Michael', '1900-01-01')\n",
      "(4, 'Fahr', 'Alec', '1900-01-01')\n"
     ]
    }
   ],
   "source": [
    "fetch(conbackup, 'person')"
   ]
  },
  {
   "cell_type": "markdown",
   "id": "7489ff1f-b3db-4a28-a60c-e99cead7c18d",
   "metadata": {},
   "source": [
    "\\\n",
    "Wir schliessen die Verbindung zur Backup-Datenbank, da sie nicht mehr benötigt werd. Dazu später mehr."
   ]
  },
  {
   "cell_type": "code",
   "execution_count": 67,
   "id": "94cd5f1b-4230-4430-b84b-b16f0ddfdfa9",
   "metadata": {},
   "outputs": [],
   "source": [
    "conbackup.close()"
   ]
  },
  {
   "cell_type": "markdown",
   "id": "265cd05c-d653-477c-b6d6-7a5d9320ebed",
   "metadata": {},
   "source": [
    "---"
   ]
  },
  {
   "cell_type": "markdown",
   "id": "729308d7-ee4b-4878-953c-578f47b8b01f",
   "metadata": {},
   "source": [
    "Wenn wir alle Queries gegen die Datenbank durchgeführt haben, so können wir das `Cursor` Objekt schliessen und damit alle Operationen an der Datenbank abschliessen.\\\n",
    "Dies wird mittels `close()` durchgeführt. Dabei gibt es `close` sowohl für das `Cursor`, als auch das `Connection` Objekt.\\\n",
    "Nach dem Aufruf von `close()` auf dem `Cursor` Objekt ist dieses nicht mehr für weitere Queries verfügbar. Wird trotzdem versucht, eine Query auszuführen, so tritt ein Fehler auf.\\\n",
    "__Alle noch offenen Änderungen, welche nicht mit `commit()` bestätigt wurden, werden mit dem schliessen des `Cursor` Objektes verworfen.__"
   ]
  },
  {
   "cell_type": "code",
   "execution_count": 68,
   "id": "905bd3b0-3b2d-4a72-b69d-a3aa9c170162",
   "metadata": {},
   "outputs": [
    {
     "name": "stdout",
     "output_type": "stream",
     "text": [
      "Cannot operate on a closed cursor.\n"
     ]
    }
   ],
   "source": [
    "cur.close()\n",
    "\n",
    "try:\n",
    "    cur.execute(\"SELECT * FROM person\")\n",
    "except Exception as e:\n",
    "    print(e)"
   ]
  },
  {
   "cell_type": "markdown",
   "id": "e40a095c-da81-4836-a6e2-a8184cd49e4c",
   "metadata": {},
   "source": [
    "\\\n",
    "Wie erwähnt existiert die `close()` Methode nicht nur für das `Cursor` Objekt, sondern auch für das `Connection` Objekt.\\\n",
    "Mit dem schliessen der Verbindung zur Datenbank werden alle `Cursor` Objekte gelöscht und die Verbindung zur Datenbank getrennt.\\\n",
    "Die Datenbank ist somit für andere Anwendungen freigegeben."
   ]
  },
  {
   "cell_type": "code",
   "execution_count": 69,
   "id": "d98168bf-fbe4-4fc3-a4b4-e39dc8c79113",
   "metadata": {},
   "outputs": [
    {
     "name": "stdout",
     "output_type": "stream",
     "text": [
      "Cannot operate on a closed database.\n"
     ]
    }
   ],
   "source": [
    "con.close()\n",
    "\n",
    "try:\n",
    "    con.cursor()\n",
    "except Exception as e:\n",
    "    print(e)"
   ]
  },
  {
   "cell_type": "markdown",
   "id": "f5c9fadd-ee66-4157-acb7-5713a7227746",
   "metadata": {},
   "source": [
    "Grundsätzlich sollte nach allen __Änderungen__ die `commit()` Methode auf das `Cursor` Objekt, und nach der Beendigung aller benötigten Queries die `close()` auf das `Cursor` und das `Connection` Objekt angewendet werden, um Konflikte zu vermeiden"
   ]
  }
 ],
 "metadata": {
  "kernelspec": {
   "display_name": "Python 3 (ipykernel)",
   "language": "python",
   "name": "python3"
  },
  "language_info": {
   "codemirror_mode": {
    "name": "ipython",
    "version": 3
   },
   "file_extension": ".py",
   "mimetype": "text/x-python",
   "name": "python",
   "nbconvert_exporter": "python",
   "pygments_lexer": "ipython3",
   "version": "3.9.0"
  }
 },
 "nbformat": 4,
 "nbformat_minor": 5
}
