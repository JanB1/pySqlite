{
 "cells": [
  {
   "cell_type": "code",
   "execution_count": 3,
   "id": "0ec0ea07-f60e-4496-8d8f-61025618c054",
   "metadata": {},
   "outputs": [],
   "source": [
    "import sqlite3\n",
    "from pathlib import Path\n",
    "\n",
    "full_database_path = 'data/test.db'"
   ]
  },
  {
   "cell_type": "markdown",
   "id": "5b3ce9be-cfcc-48ab-b71a-40b50678b461",
   "metadata": {},
   "source": []
  }
 ],
 "metadata": {
  "kernelspec": {
   "display_name": "Python 3 (ipykernel)",
   "language": "python",
   "name": "python3"
  },
  "language_info": {
   "codemirror_mode": {
    "name": "ipython",
    "version": 3
   },
   "file_extension": ".py",
   "mimetype": "text/x-python",
   "name": "python",
   "nbconvert_exporter": "python",
   "pygments_lexer": "ipython3",
   "version": "3.9.0"
  }
 },
 "nbformat": 4,
 "nbformat_minor": 5
}
