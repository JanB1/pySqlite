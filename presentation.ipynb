{
 "cells": [
  {
   "cell_type": "code",
   "execution_count": 3,
   "id": "0ec0ea07-f60e-4496-8d8f-61025618c054",
   "metadata": {},
   "outputs": [],
   "source": [
    "import sqlite3\n",
    "from pathlib import Path\n",
    "\n",
    "full_database_path = 'data/test.db'"
   ]
  },
  {
   "cell_type": "code",
   "execution_count": 3,
   "id": "665e12b5-0854-411c-956d-c11565ae9836",
   "metadata": {},
   "outputs": [
    {
     "name": "stdout",
     "output_type": "stream",
     "text": [
      "2.6.0\n"
     ]
    }
   ],
   "source": [
    "print(sqlite3.version)"
   ]
  },
  {
   "cell_type": "code",
   "execution_count": 4,
   "id": "59f41ac7-1956-4757-b85a-5e30290de41c",
   "metadata": {},
   "outputs": [
    {
     "name": "stdout",
     "output_type": "stream",
     "text": [
      "3.32.3\n"
     ]
    }
   ],
   "source": [
    "print(sqlite3.sqlite_version)"
   ]
  },
  {
   "cell_type": "code",
   "execution_count": 4,
   "id": "ec41b4c3-834b-46cc-ad68-452073da987c",
   "metadata": {},
   "outputs": [],
   "source": [
    "connectionEstablished = False\n",
    "con = sqlite3.connect(full_database_path)\n",
    "try:\n",
    "    cur = con.cursor()\n",
    "    connectionEstablished = True\n",
    "except Exception as e:\n",
    "    print(e)"
   ]
  },
  {
   "cell_type": "code",
   "execution_count": 74,
   "id": "4525c01c-8ec2-42ef-afe2-a1fded8830da",
   "metadata": {},
   "outputs": [
    {
     "name": "stdout",
     "output_type": "stream",
     "text": [
      "True\n"
     ]
    }
   ],
   "source": [
    "print(connectionEstablished)"
   ]
  },
  {
   "cell_type": "code",
   "execution_count": 11,
   "id": "61cf227b-6602-475a-81c1-c947ed6be28e",
   "metadata": {},
   "outputs": [
    {
     "data": {
      "text/plain": [
       "[]"
      ]
     },
     "execution_count": 11,
     "metadata": {},
     "output_type": "execute_result"
    }
   ],
   "source": [
    "# Constrain for \"Id\" has to be \"INTEGER PRIMARY KEY\"\n",
    "# to result in auto-increment column\n",
    "cur.execute('''CREATE TABLE IF NOT EXISTS person (\n",
    "               Id INTEGER PRIMARY KEY,\n",
    "               LastName TEXT NOT NULL,\n",
    "               FirstName TEXT,\n",
    "               DateOfBirt TEXT)''')\n",
    "\n",
    "cur.execute('''SELECT * FROM person''')\n",
    "con.commit()\n",
    "cur.fetchall()"
   ]
  },
  {
   "cell_type": "code",
   "execution_count": 29,
   "id": "ff52e59a-0fed-4ed4-9088-4d3dc56e54dc",
   "metadata": {},
   "outputs": [
    {
     "data": {
      "text/plain": [
       "[(1, 'Baumann', 'Jan', '1900-01-01')]"
      ]
     },
     "execution_count": 29,
     "metadata": {},
     "output_type": "execute_result"
    }
   ],
   "source": [
    "cur.execute('''INSERT INTO person VALUES (\n",
    "               NULL,\n",
    "               \"Baumann\",\n",
    "               \"Jan\",\n",
    "               \"1900-01-01\")''')\n",
    "cur.execute('''SELECT * FROM person''')\n",
    "con.commit()\n",
    "cur.fetchall()"
   ]
  },
  {
   "cell_type": "code",
   "execution_count": 16,
   "id": "0bdf0ea3-cb9c-4ac8-a6c2-f7d511f128bd",
   "metadata": {},
   "outputs": [
    {
     "ename": "Warning",
     "evalue": "You can only execute one statement at a time.",
     "output_type": "error",
     "traceback": [
      "\u001b[1;31m---------------------------------------------------------------------------\u001b[0m",
      "\u001b[1;31mWarning\u001b[0m                                   Traceback (most recent call last)",
      "\u001b[1;32m~\\AppData\\Local\\Temp/ipykernel_16364/1270190852.py\u001b[0m in \u001b[0;36m<module>\u001b[1;34m\u001b[0m\n\u001b[1;32m----> 1\u001b[1;33m cur.execute('''INSERT INTO person VALUES (\n\u001b[0m\u001b[0;32m      2\u001b[0m                \u001b[0mNULL\u001b[0m\u001b[1;33m,\u001b[0m\u001b[1;33m\u001b[0m\u001b[1;33m\u001b[0m\u001b[0m\n\u001b[0;32m      3\u001b[0m                \u001b[1;34m\"Baumann\"\u001b[0m\u001b[1;33m,\u001b[0m\u001b[1;33m\u001b[0m\u001b[1;33m\u001b[0m\u001b[0m\n\u001b[0;32m      4\u001b[0m                \u001b[1;34m\"Jan\"\u001b[0m\u001b[1;33m,\u001b[0m\u001b[1;33m\u001b[0m\u001b[1;33m\u001b[0m\u001b[0m\n\u001b[0;32m      5\u001b[0m                \"1900-01-01\");\n",
      "\u001b[1;31mWarning\u001b[0m: You can only execute one statement at a time."
     ]
    }
   ],
   "source": [
    "cur.execute('''INSERT INTO person VALUES (\n",
    "               NULL,\n",
    "               \"Baumann\",\n",
    "               \"Jan\",\n",
    "               \"1900-01-01\");\n",
    "               \n",
    "               INSERT INTO person VALUES (\n",
    "               NULL,\n",
    "               \"Pavicic\",\n",
    "               \"Aleksandar\",\n",
    "               \"1900-01-01\");\n",
    "               ''')\n",
    "con.commit()"
   ]
  },
  {
   "cell_type": "code",
   "execution_count": 30,
   "id": "c734b44c-623d-4f4f-8acc-f539785aa66d",
   "metadata": {},
   "outputs": [
    {
     "data": {
      "text/plain": [
       "[(1, 'Baumann', 'Jan', '1900-01-01'),\n",
       " (2, 'Pavicic', 'Aleksandar', '1900-01-01'),\n",
       " (3, 'Pearson', 'Michael', '1900-01-01'),\n",
       " (4, 'Fahr', 'Alec', '1900-01-01')]"
      ]
     },
     "execution_count": 30,
     "metadata": {},
     "output_type": "execute_result"
    }
   ],
   "source": [
    "cur.executescript('''\n",
    "    INSERT INTO person VALUES (\n",
    "    NULL,\n",
    "    \"Pavicic\",\n",
    "     \"Aleksandar\"\n",
    "    \"1900-01-01\");\n",
    "    \n",
    "    INSERT INTO person VALUES (\n",
    "    NULL,\n",
    "    \"Pearson\",\n",
    "    \"Michael\",\n",
    "    \"1900-01-01\");\n",
    "    \n",
    "    INSERT INTO person VALUES (\n",
    "    NULL,\n",
    "    \"Fahr\",\n",
    "    \"Alec\",\n",
    "    \"1900-01-01\");\n",
    "    ''')\n",
    "cur.execute('''SELECT * FROM person''')\n",
    "cur.fetchall()"
   ]
  },
  {
   "cell_type": "code",
   "execution_count": 31,
   "id": "922b681a-1ae9-4d47-a610-bb94185a089b",
   "metadata": {},
   "outputs": [
    {
     "data": {
      "text/plain": [
       "[(1, 'Baumann', 'Jan', '1900-01-01')]"
      ]
     },
     "execution_count": 31,
     "metadata": {},
     "output_type": "execute_result"
    }
   ],
   "source": [
    "def idGen(min, max):\n",
    "    for i in range(min, max+1):\n",
    "        yield (i,)\n",
    "\n",
    "cur.executemany('''DELETE FROM person WHERE Id == (?)''', idGen(2, 4))\n",
    "cur.execute('''SELECT * FROM person''')\n",
    "cur.fetchall()"
   ]
  },
  {
   "cell_type": "code",
   "execution_count": 40,
   "id": "61bc2f36-2293-41fd-9e3c-055cadf3796c",
   "metadata": {},
   "outputs": [
    {
     "data": {
      "text/plain": [
       "<sqlite3.Cursor at 0x2b99cce1c00>"
      ]
     },
     "execution_count": 40,
     "metadata": {},
     "output_type": "execute_result"
    }
   ],
   "source": [
    "values = [(None, \"Pavicic\"\"\", \"Aleksandar\"\"\", \"1900-01-01\"),\n",
    "          (None, \"Pearson\", \"Michael\"\"\", \"1900-01-01\"),\n",
    "          (None, \"Fahr\", \"Alec\", \"1900-01-01\")]\n",
    "cur.executemany('''INSERT INTO person VALUES (?, ?, ?, ?)''', values)"
   ]
  },
  {
   "cell_type": "code",
   "execution_count": 65,
   "id": "3a8d519f-c661-43b1-89a6-5f578c25d192",
   "metadata": {},
   "outputs": [
    {
     "name": "stdout",
     "output_type": "stream",
     "text": [
      "4\n"
     ]
    }
   ],
   "source": [
    "cur.execute('''SELECT COUNT() FROM person''')\n",
    "data = cur.fetchone()\n",
    "numrows = data[0]\n",
    "print(numrows)\n"
   ]
  },
  {
   "cell_type": "code",
   "execution_count": 80,
   "id": "f76b8b5c-a454-4dcf-a046-894fcea44369",
   "metadata": {},
   "outputs": [
    {
     "name": "stdout",
     "output_type": "stream",
     "text": [
      "(1, 'Baumann', 'Jan', '1900-01-01')\n",
      "(2, 'Pavicic', 'Aleksandar', '1900-01-01')\n",
      "(3, 'Pearson', 'Michael', '1900-01-01')\n",
      "(4, 'Fahr', 'Alec', '1900-01-01')\n"
     ]
    }
   ],
   "source": [
    "cur.execute('''SELECT * FROM person''')\n",
    "for i in range(numrows):\n",
    "    print(cur.fetchone())"
   ]
  },
  {
   "cell_type": "code",
   "execution_count": 5,
   "id": "905bd3b0-3b2d-4a72-b69d-a3aa9c170162",
   "metadata": {},
   "outputs": [
    {
     "name": "stdout",
     "output_type": "stream",
     "text": [
      "Cannot operate on a closed cursor.\n"
     ]
    }
   ],
   "source": [
    "cur.close()\n",
    "try:\n",
    "    cur.execute('''SELECT * FROM person''')\n",
    "except Exception as e:\n",
    "    print(e)"
   ]
  },
  {
   "cell_type": "code",
   "execution_count": null,
   "id": "d98168bf-fbe4-4fc3-a4b4-e39dc8c79113",
   "metadata": {},
   "outputs": [],
   "source": []
  }
 ],
 "metadata": {
  "kernelspec": {
   "display_name": "Python 3 (ipykernel)",
   "language": "python",
   "name": "python3"
  },
  "language_info": {
   "codemirror_mode": {
    "name": "ipython",
    "version": 3
   },
   "file_extension": ".py",
   "mimetype": "text/x-python",
   "name": "python",
   "nbconvert_exporter": "python",
   "pygments_lexer": "ipython3",
   "version": "3.9.0"
  }
 },
 "nbformat": 4,
 "nbformat_minor": 5
}
